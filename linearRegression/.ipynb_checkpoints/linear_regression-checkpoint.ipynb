{
 "cells": [
  {
   "cell_type": "code",
   "execution_count": 4,
   "metadata": {},
   "outputs": [],
   "source": [
    "import numpy as np \n",
    "import csv \n",
    "import pandas as pd\n",
    "import matplotlib.pyplot as plt\n",
    "\n",
    "%matplotlib inline"
   ]
  },
  {
   "cell_type": "code",
   "execution_count": 12,
   "metadata": {
    "scrolled": true
   },
   "outputs": [],
   "source": [
    "\n",
    "\"\"\"reading the data as dataframe then save it in a numpy array then separate each column \n",
    "to represant X, Y \"\"\"\n",
    "data= pd.read_csv(\"ex1data1.txt\")\n",
    "tData = np.array(data)\n",
    "Y= tData[:,-1:]\n",
    "X=tData[:,0:-1]"
   ]
  },
  {
   "cell_type": "code",
   "execution_count": 13,
   "metadata": {},
   "outputs": [],
   "source": [
    "def Least_Squares_technique(X,Y):\n",
    "    \"\"\"\n",
    "    calculating the least squares techinque for linear regression by calculating the mean \n",
    "    for each X, Y then using the linear regession rule to calculate the  b0 , b1 \n",
    "    rule is:b0 = the mean for Y - B1 * mean for X \n",
    "    b1 = mean X*Y - number of training set(N)* mean X, mean Y /\n",
    "    mean X^2 - N* (mean X)^2\n",
    "    \"\"\"\n",
    "    m_x = np.mean(X)\n",
    "    m_y = np.mean(Y)\n",
    "    n= np.size(X)\n",
    "    SS_xy= np.sum(X*Y)- n*m_x*m_y\n",
    "    SS_xx= np.sum(X*X)- n*m_x*m_x\n",
    "    \n",
    "    B1 =SS_xy/SS_xx\n",
    "    B0 =m_y - B1* m_x\n",
    "    return(B0 , B1)\n"
   ]
  },
  {
   "cell_type": "code",
   "execution_count": 14,
   "metadata": {},
   "outputs": [
    {
     "data": {
      "image/png": "[encoded data removed]",
      "text/plain": [
       "<Figure size 432x288 with 1 Axes>"
      ]
     },
     "metadata": {
      "needs_background": "light"
     },
     "output_type": "display_data"
    }
   ],
   "source": [
    "\"\"\"here we are ploting the data into a graph \"\"\"\n",
    "b0, b1 = Least_Squares_technique(X,Y)\n",
    "y_pred = b0 + b1*X \n",
    "  \n",
    "\n",
    "plt.plot(X, y_pred, color = \"g\") \n",
    "\n",
    "\n",
    "\n",
    "plt.ylabel(\"Profit in $10,000s\")\n",
    "plt.xlabel(\"Population of City in 10,000s\")\n",
    "plt.title(\"title\")\n",
    "plt.scatter(X,Y)\n",
    "plt.show()"
   ]
  },
  {
   "cell_type": "code",
   "execution_count": null,
   "metadata": {},
   "outputs": [],
   "source": []
  }
 ],
 "metadata": {
  "kernelspec": {
   "display_name": "Python 3",
   "language": "python",
   "name": "python3"
  },
  "language_info": {
   "codemirror_mode": {
    "name": "ipython",
    "version": 3
   },
   "file_extension": ".py",
   "mimetype": "text/x-python",
   "name": "python",
   "nbconvert_exporter": "python",
   "pygments_lexer": "ipython3",
   "version": "3.7.4"
  }
 },
 "nbformat": 4,
 "nbformat_minor": 2
}
